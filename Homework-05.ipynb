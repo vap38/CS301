{
 "cells": [
  {
   "cell_type": "code",
   "execution_count": 20,
   "metadata": {
    "colab": {
     "base_uri": "https://localhost:8080/",
     "height": 221
    },
    "colab_type": "code",
    "id": "4e_API1otUnu",
    "outputId": "051f6274-39d7-4ca2-8292-445f962f7bfa"
   },
   "outputs": [],
   "source": [
    "# Author: Vaishnavi Patel\n",
    "# Date: 3/7/2020\n",
    "# CS301-006, Professor Watson\n",
    "# HW05 Solution\n",
    "# Practiced pandas using corona virus data\n",
    "# link to the git repo (ex: https://github.com/vap38/CS301)\n",
    "# link-to-the-relevant-git-commit (ex:https://github.com/vap38/CS301/blob/master/Homework-05.ipynb)\n",
    "# name-of-the-branch (ex: master)"
   ]
  },
  {
   "cell_type": "code",
   "execution_count": 21,
   "metadata": {},
   "outputs": [
    {
     "data": {
      "text/html": [
       "<div>\n",
       "<style scoped>\n",
       "    .dataframe tbody tr th:only-of-type {\n",
       "        vertical-align: middle;\n",
       "    }\n",
       "\n",
       "    .dataframe tbody tr th {\n",
       "        vertical-align: top;\n",
       "    }\n",
       "\n",
       "    .dataframe thead th {\n",
       "        text-align: right;\n",
       "    }\n",
       "</style>\n",
       "<table border=\"1\" class=\"dataframe\">\n",
       "  <thead>\n",
       "    <tr style=\"text-align: right;\">\n",
       "      <th></th>\n",
       "      <th>Unnamed: 0</th>\n",
       "      <th>Name</th>\n",
       "      <th>Midterm</th>\n",
       "      <th>Final</th>\n",
       "      <th>Attendance</th>\n",
       "      <th>HW</th>\n",
       "      <th>Final Average</th>\n",
       "      <th>Final Letter</th>\n",
       "      <th>Numeric Bin</th>\n",
       "      <th>Majors</th>\n",
       "    </tr>\n",
       "  </thead>\n",
       "  <tbody>\n",
       "    <tr>\n",
       "      <td>0</td>\n",
       "      <td>0</td>\n",
       "      <td>Ariel</td>\n",
       "      <td>89</td>\n",
       "      <td>92</td>\n",
       "      <td>9</td>\n",
       "      <td>9</td>\n",
       "      <td>86.0</td>\n",
       "      <td>B+</td>\n",
       "      <td>80.0</td>\n",
       "      <td>BNFO</td>\n",
       "    </tr>\n",
       "    <tr>\n",
       "      <td>1</td>\n",
       "      <td>1</td>\n",
       "      <td>Brody</td>\n",
       "      <td>92</td>\n",
       "      <td>93</td>\n",
       "      <td>10</td>\n",
       "      <td>9</td>\n",
       "      <td>89.0</td>\n",
       "      <td>A</td>\n",
       "      <td>80.0</td>\n",
       "      <td>BNFO</td>\n",
       "    </tr>\n",
       "    <tr>\n",
       "      <td>2</td>\n",
       "      <td>2</td>\n",
       "      <td>Debra</td>\n",
       "      <td>76</td>\n",
       "      <td>88</td>\n",
       "      <td>8</td>\n",
       "      <td>6</td>\n",
       "      <td>74.0</td>\n",
       "      <td>C+</td>\n",
       "      <td>70.0</td>\n",
       "      <td>MATH</td>\n",
       "    </tr>\n",
       "    <tr>\n",
       "      <td>3</td>\n",
       "      <td>3</td>\n",
       "      <td>Rex</td>\n",
       "      <td>90</td>\n",
       "      <td>83</td>\n",
       "      <td>10</td>\n",
       "      <td>10</td>\n",
       "      <td>88.0</td>\n",
       "      <td>B+</td>\n",
       "      <td>80.0</td>\n",
       "      <td>MATH</td>\n",
       "    </tr>\n",
       "    <tr>\n",
       "      <td>4</td>\n",
       "      <td>4</td>\n",
       "      <td>Jerry</td>\n",
       "      <td>67</td>\n",
       "      <td>85</td>\n",
       "      <td>7</td>\n",
       "      <td>5</td>\n",
       "      <td>66.0</td>\n",
       "      <td>D</td>\n",
       "      <td>60.0</td>\n",
       "      <td>BNFO</td>\n",
       "    </tr>\n",
       "  </tbody>\n",
       "</table>\n",
       "</div>"
      ],
      "text/plain": [
       "   Unnamed: 0   Name  Midterm  Final  Attendance  HW  Final Average  \\\n",
       "0           0  Ariel       89     92           9   9           86.0   \n",
       "1           1  Brody       92     93          10   9           89.0   \n",
       "2           2  Debra       76     88           8   6           74.0   \n",
       "3           3    Rex       90     83          10  10           88.0   \n",
       "4           4  Jerry       67     85           7   5           66.0   \n",
       "\n",
       "  Final Letter  Numeric Bin Majors  \n",
       "0           B+         80.0   BNFO  \n",
       "1            A         80.0   BNFO  \n",
       "2           C+         70.0   MATH  \n",
       "3           B+         80.0   MATH  \n",
       "4            D         60.0   BNFO  "
      ]
     },
     "execution_count": 21,
     "metadata": {},
     "output_type": "execute_result"
    }
   ],
   "source": [
    "import pandas as pd \n",
    "import matplotlib.pyplot as plt\n",
    "import seaborn as sns\n",
    "import numpy as np\n",
    "from matplotlib.pyplot import figure\n",
    "\n",
    "data = pd.read_csv(\"student_class.csv\")\n",
    "data.head()"
   ]
  },
  {
   "cell_type": "markdown",
   "metadata": {
    "colab_type": "text",
    "id": "tZKzuaEr2nP0"
   },
   "source": [
    "# Q1 - Median Midterm, Final and Final Avg Scores"
   ]
  },
  {
   "cell_type": "code",
   "execution_count": 22,
   "metadata": {
    "colab": {
     "base_uri": "https://localhost:8080/",
     "height": 235
    },
    "colab_type": "code",
    "id": "71-nnYBOuCT-",
    "outputId": "eb90d292-cffe-4597-ca7d-2110e9c45803"
   },
   "outputs": [
    {
     "data": {
      "text/html": [
       "<div>\n",
       "<style scoped>\n",
       "    .dataframe tbody tr th:only-of-type {\n",
       "        vertical-align: middle;\n",
       "    }\n",
       "\n",
       "    .dataframe tbody tr th {\n",
       "        vertical-align: top;\n",
       "    }\n",
       "\n",
       "    .dataframe thead th {\n",
       "        text-align: right;\n",
       "    }\n",
       "</style>\n",
       "<table border=\"1\" class=\"dataframe\">\n",
       "  <thead>\n",
       "    <tr style=\"text-align: right;\">\n",
       "      <th></th>\n",
       "      <th>Midterm</th>\n",
       "      <th>Final</th>\n",
       "      <th>Final Average</th>\n",
       "    </tr>\n",
       "    <tr>\n",
       "      <th>Majors</th>\n",
       "      <th></th>\n",
       "      <th></th>\n",
       "      <th></th>\n",
       "    </tr>\n",
       "  </thead>\n",
       "  <tbody>\n",
       "    <tr>\n",
       "      <td>BNFO</td>\n",
       "      <td>87.5</td>\n",
       "      <td>90.5</td>\n",
       "      <td>75.05</td>\n",
       "    </tr>\n",
       "    <tr>\n",
       "      <td>CS</td>\n",
       "      <td>82.0</td>\n",
       "      <td>74.5</td>\n",
       "      <td>72.70</td>\n",
       "    </tr>\n",
       "    <tr>\n",
       "      <td>IS</td>\n",
       "      <td>73.0</td>\n",
       "      <td>81.0</td>\n",
       "      <td>71.80</td>\n",
       "    </tr>\n",
       "    <tr>\n",
       "      <td>IT</td>\n",
       "      <td>82.5</td>\n",
       "      <td>80.5</td>\n",
       "      <td>74.80</td>\n",
       "    </tr>\n",
       "    <tr>\n",
       "      <td>MATH</td>\n",
       "      <td>84.5</td>\n",
       "      <td>80.5</td>\n",
       "      <td>74.30</td>\n",
       "    </tr>\n",
       "  </tbody>\n",
       "</table>\n",
       "</div>"
      ],
      "text/plain": [
       "        Midterm  Final  Final Average\n",
       "Majors                               \n",
       "BNFO       87.5   90.5          75.05\n",
       "CS         82.0   74.5          72.70\n",
       "IS         73.0   81.0          71.80\n",
       "IT         82.5   80.5          74.80\n",
       "MATH       84.5   80.5          74.30"
      ]
     },
     "execution_count": 22,
     "metadata": {},
     "output_type": "execute_result"
    }
   ],
   "source": [
    "q1_data = data.groupby(data.Majors)[['Midterm', 'Final', 'Final Average']].median()\n",
    "q1_data.head()"
   ]
  },
  {
   "cell_type": "code",
   "execution_count": 23,
   "metadata": {
    "colab": {
     "base_uri": "https://localhost:8080/",
     "height": 417
    },
    "colab_type": "code",
    "id": "IcJycAWSw8D2",
    "outputId": "26e5890a-d31f-4e0a-a20a-b1fa544ecf6f"
   },
   "outputs": [
    {
     "data": {
      "image/png": "[encoded data removed]",
      "text/plain": [
       "<Figure size 1044x468 with 1 Axes>"
      ]
     },
     "metadata": {
      "needs_background": "light"
     },
     "output_type": "display_data"
    }
   ],
   "source": [
    "fig = plt.gcf()\n",
    "fig.set_size_inches(14.5, 6.5)\n",
    "\n",
    "indexes = np.arange(5)\n",
    "width = 0.25\n",
    "plt.bar(indexes - width, q1_data['Midterm'], width, color = \"red\",label='Midterm')\n",
    "plt.bar(indexes, q1_data['Final'], width, color = \"green\", label='Final')\n",
    "plt.bar(indexes + width, q1_data['Final Average'], width, label='Final Average')\n",
    "plt.ylabel('Scores')\n",
    "plt.xlabel(\"Major\")\n",
    "plt.title('Median Midterm, Final and Final Avg Scores')\n",
    "plt.xticks(indexes + width / 2, ('BNFO', 'CS', 'IS', 'IT', 'MATH'))\n",
    "plt.legend(loc='best')\n",
    "plt.show()"
   ]
  },
  {
   "cell_type": "markdown",
   "metadata": {},
   "source": [
    "Items= student's score\n",
    "Attributes = midterm, final and final average grades\n",
    "marks = rectangle bar\n",
    "different color of the bar represents different grade marking\n",
    "They used bar graph where the vertical axis marked the median scores and the horizontal axis marked the major and various colors represented its specific grade bin. The vertical marking also marks the number of students.\n",
    "\n",
    "Comments:\n",
    "I wish the bar graph was more visible and able to line it up with the y-axis. (if the numbers of y-axis were bigger and the title were in bigger font, it would be easier. Also, the legend covers the bar graph.\n",
    "\n",
    "BNFO appears to be doing best compared to other majors because it has the highest Midterm-87, Final-90.5, and final average (75.05). Another better performance was seen by Math major because its grades were high compared to other majors. \n"
   ]
  },
  {
   "cell_type": "markdown",
   "metadata": {
    "colab_type": "text",
    "id": "l7nrDBm92vNO"
   },
   "source": [
    "# Q2 - HistPlot of students in each grade  "
   ]
  },
  {
   "cell_type": "code",
   "execution_count": 24,
   "metadata": {
    "colab": {
     "base_uri": "https://localhost:8080/",
     "height": 401
    },
    "colab_type": "code",
    "id": "MmNpAQ4ax7tb",
    "outputId": "ab61d73c-6701-4559-f490-45abfcbb3f23"
   },
   "outputs": [
    {
     "data": {
      "image/png": "[encoded data removed]",
      "text/plain": [
       "<Figure size 1044x468 with 1 Axes>"
      ]
     },
     "metadata": {
      "needs_background": "light"
     },
     "output_type": "display_data"
    }
   ],
   "source": [
    "fig = plt.gcf()\n",
    "fig.set_size_inches(14.5, 6.5)\n",
    "\n",
    "q2_data = data[\"Final Average\"].to_list()\n",
    "plt.hist(q2_data, bins=6, range = [40, 100], label=\"Freq of students in each grade\")\n",
    "plt.title('Number of students in Each Grade Bin')\n",
    "plt.xlabel(\"Grade\")\n",
    "plt.ylabel(\"Frquency\")\n",
    "plt.legend(loc='best')\n",
    "plt.show()\n"
   ]
  },
  {
   "cell_type": "markdown",
   "metadata": {},
   "source": [
    "Items = student's score\n",
    "attribute = final average of students\n",
    "marks = rectangle bar\n",
    "The bar graph has vertical axis which measures the frequency (total number of students) and the horizontal axis marks various grade bins.\n",
    "Change/Improve\n",
    "\n",
    "It should have a legend.\n",
    "The description needs to be more clear, like the data marked is for final score.\n",
    "\n",
    "We don't know if it is final grade, midterm, or final average.\n",
    "Should be showing students based on major, so deeper analysis could be done\n",
    "\n",
    "Majority of the students fall in the 60-90 grade bins\n",
    "It is left skewed because majority of the data is found in the left, where students performed in the range of 50-90 with few exceptions such as low frequencies encountered for 40-50 and 90-100\n"
   ]
  },
  {
   "cell_type": "markdown",
   "metadata": {
    "colab_type": "text",
    "id": "iG9da4SN8Dt5"
   },
   "source": [
    "# Q3 - Scatter Plot on Exams vs Final Avg"
   ]
  },
  {
   "cell_type": "code",
   "execution_count": 25,
   "metadata": {
    "colab": {
     "base_uri": "https://localhost:8080/",
     "height": 370
    },
    "colab_type": "code",
    "id": "8YzZOSgh3J4p",
    "outputId": "761935a4-3570-46ab-e039-bacb4f25e642"
   },
   "outputs": [
    {
     "data": {
      "image/png": "[encoded data removed]",
      "text/plain": [
       "<Figure size 432x288 with 1 Axes>"
      ]
     },
     "metadata": {
      "needs_background": "light"
     },
     "output_type": "display_data"
    }
   ],
   "source": [
    "q3_data = data[['Midterm', 'Final', 'Final Average']]\n",
    "\n",
    "fig=plt.figure()\n",
    "ax=fig.add_axes([0,0,1,1])\n",
    "ax.scatter(q3_data['Midterm'], q3_data['Final Average'], color='r',label = 'Midterm')\n",
    "ax.scatter(q3_data['Final'], q3_data['Final Average'], color='b', label=\"Final\")\n",
    "ax.set_xlabel('Exam Score')\n",
    "\n",
    "ax.set_ylabel('Final Average')\n",
    "ax.set_title('Exams vs Final Avg')\n",
    "plt.legend(loc='best')\n",
    "plt.show()"
   ]
  },
  {
   "cell_type": "markdown",
   "metadata": {
    "colab": {},
    "colab_type": "code",
    "id": "vGER_EFD8x44"
   },
   "source": [
    "items = student\n",
    "attributes = final exam, midterm exam, final average\n",
    "marks = point\n",
    "It is a scatter plot that has vertical axis marking final average and horizontal axis marking exam score\n",
    "\n",
    "Comments/Critique\n",
    "Difficult to make analysis if the scores impact the final average. They are scattered all across the grpah and they are barely any clusters. There is no clear indication of relatioship. If there was a line of best fit, it would be easier to visualize. "
   ]
  }
 ],
 "metadata": {
  "colab": {
   "name": "Homework.ipynb",
   "provenance": [],
   "toc_visible": true
  },
  "kernelspec": {
   "display_name": "Python 3",
   "language": "python",
   "name": "python3"
  },
  "language_info": {
   "codemirror_mode": {
    "name": "ipython",
    "version": 3
   },
   "file_extension": ".py",
   "mimetype": "text/x-python",
   "name": "python",
   "nbconvert_exporter": "python",
   "pygments_lexer": "ipython3",
   "version": "3.7.4"
  }
 },
 "nbformat": 4,
 "nbformat_minor": 1
}
