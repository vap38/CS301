{
 "cells": [
  {
   "cell_type": "code",
   "execution_count": null,
   "metadata": {},
   "outputs": [],
   "source": [
    "\n",
    "# Author: Vaishnavi Patel\n",
    "# Date: 2/17/2020\n",
    "# CS301-006, Professor Watson\n",
    "# HW03 Solution\n",
    "# Calculated quartiles, outliers using numpy and class method\n",
    "# link to the git repo (ex: https://github.com/vap38/CS301)\n",
    "# link-to-the-relevant-git-commit (ex: https://github.com/cww5/web_scraper/tree/60e907c00ecbe21bc6a543621c9683ebf7f9693a)\n",
    "# name-of-the-branch (ex: master)\n",
    "\n"
   ]
  },
  {
   "cell_type": "markdown",
   "metadata": {},
   "source": [
    "# Question 1"
   ]
  },
  {
   "cell_type": "code",
   "execution_count": 16,
   "metadata": {},
   "outputs": [],
   "source": [
    "\n",
    "import pandas as pd\n",
    "def data_reader(path):\n",
    "    try:\n",
    "        df = pd.read_csv(path)\n",
    "        print(\"The shape is: \", df.shape)\n",
    "        return df\n",
    "    except IOError:\n",
    "        print(\"Error during reading, please try again.\")\n",
    "        return None"
   ]
  },
  {
   "cell_type": "code",
   "execution_count": 17,
   "metadata": {},
   "outputs": [
    {
     "name": "stdout",
     "output_type": "stream",
     "text": [
      "Error during reading, please try again.\n"
     ]
    }
   ],
   "source": [
    "filepath = \"C:\\\\Users\\\\HP.LAPTOP-T27KQ4SL\\\\Desktop\\\\NJIT\\\\Spring 2020\\\\drinks.csv\"\n",
    "frame = data_reader(filepath)"
   ]
  },
  {
   "cell_type": "markdown",
   "metadata": {},
   "source": [
    "# Question 2\n"
   ]
  },
  {
   "cell_type": "code",
   "execution_count": 32,
   "metadata": {},
   "outputs": [],
   "source": [
    "def get_num_outliers(data, column):\n",
    "    quantile1 = data[column].quantile(0.25)\n",
    "    quantile3 = data[column].quantile(0.75)\n",
    "    inter_quantile_range = quantile3 - quantile1\n",
    "    outliers = ((data[column] < (quantile1 - 1.5 * inter_quantile_range)) | (data[column] > (quantile3 + 1.5 * inter_quantile_range))).sum()\n",
    "    return outliers"
   ]
  },
  {
   "cell_type": "code",
   "execution_count": 33,
   "metadata": {},
   "outputs": [
    {
     "data": {
      "text/plain": [
       "26"
      ]
     },
     "execution_count": 33,
     "metadata": {},
     "output_type": "execute_result"
    }
   ],
   "source": [
    "get_num_outliers(frame, 'wine_servings')"
   ]
  },
  {
   "cell_type": "markdown",
   "metadata": {},
   "source": [
    "# Question 3"
   ]
  },
  {
   "cell_type": "code",
   "execution_count": 28,
   "metadata": {},
   "outputs": [],
   "source": [
    "def get_num_deviants(data, column, multiplier):\n",
    "    std_dev = data[column].std()\n",
    "    mean = data[column].mean()\n",
    "    upper_bound = mean + std_dev * multiplier\n",
    "    lower_bound = mean -  std_dev * multiplier\n",
    "    outliers = ((data[column] < (lower_bound)) | (data[column] > (upper_bound))).sum()\n",
    "    return outliers\n"
   ]
  },
  {
   "cell_type": "code",
   "execution_count": 34,
   "metadata": {},
   "outputs": [
    {
     "data": {
      "text/plain": [
       "28"
      ]
     },
     "execution_count": 34,
     "metadata": {},
     "output_type": "execute_result"
    }
   ],
   "source": [
    "get_num_deviants(frame, 'wine_servings', 1)"
   ]
  },
  {
   "cell_type": "code",
   "execution_count": null,
   "metadata": {},
   "outputs": [],
   "source": []
  }
 ],
 "metadata": {
  "kernelspec": {
   "display_name": "Python 3",
   "language": "python",
   "name": "python3"
  },
  "language_info": {
   "codemirror_mode": {
    "name": "ipython",
    "version": 3
   },
   "file_extension": ".py",
   "mimetype": "text/x-python",
   "name": "python",
   "nbconvert_exporter": "python",
   "pygments_lexer": "ipython3",
   "version": "3.7.4"
  }
 },
 "nbformat": 4,
 "nbformat_minor": 2
}
