{
 "cells": [
  {
   "cell_type": "code",
   "execution_count": null,
   "metadata": {},
   "outputs": [],
   "source": [
    "# Author: Vaishnavi Patel\n",
    "# Date: 2/7/2020\n",
    "# CS301-006, Professor Watson\n",
    "# HW02 Solution\n",
    "# Calculated quartiles, outliers using numpy and class method\n",
    "# link to the git repo (ex: https://github.com/vap38/CS301)\n",
    "# link-to-the-relevant-git-commit (ex: https://github.com/cww5/web_scraper/tree/60e907c00ecbe21bc6a543621c9683ebf7f9693a)\n",
    "# name-of-the-branch (ex: master)"
   ]
  },
  {
   "cell_type": "markdown",
   "metadata": {},
   "source": [
    "## HW 02 - Base Code to Start"
   ]
  },
  {
   "cell_type": "markdown",
   "metadata": {},
   "source": [
    "#### Use these two samples to test your functions"
   ]
  },
  {
   "cell_type": "code",
   "execution_count": 101,
   "metadata": {},
   "outputs": [],
   "source": [
    "grades = [0, 0, 14, 35, 63, 66, 75, 77, 78, 80, 81, 81, 87, 89, 90, 91, 100]"
   ]
  },
  {
   "cell_type": "code",
   "execution_count": 102,
   "metadata": {},
   "outputs": [],
   "source": [
    "times = [5, 10, 10, 15, 15, 15, 15, 20, 20, 20, 25, 30, 30, 40, 40, 45, 60, 60, 65, 89]"
   ]
  },
  {
   "cell_type": "markdown",
   "metadata": {},
   "source": [
    "### Please answer Problem 2 below:"
   ]
  },
  {
   "cell_type": "code",
   "execution_count": 103,
   "metadata": {},
   "outputs": [],
   "source": [
    "import numpy as np\n",
    "import pandas as pd\n",
    "\n",
    "def outliers_iqr(ys): #find out the outliers\n",
    "    quartile_1, quartile_3 = np.percentile(ys, [25, 75])\n",
    "    iqr = quartile_3 - quartile_1\n",
    "    lower_bound = quartile_1 - (iqr * 1.5)\n",
    "    upper_bound = quartile_3 + (iqr * 1.5)\n",
    "    return np.where((ys > upper_bound) | (ys < lower_bound))\n",
    "\n",
    "def getOutliers(lst,arr): #remove outliers from list\n",
    "    outliers = [arr[i] for i in lst]\n",
    "    print(outliers)\n",
    "    [arr.remove(num) for num in outliers]\n",
    "    \n",
    "\n",
    "def q_summary_V1(arr): #function to get quantiles using numpy\n",
    "    d = {}\n",
    "    print(\"The outliers are: \",end = \"\")\n",
    "    d[\"q1\"]=np.quantile(arr, 0.25)\n",
    "    d[\"q2\"]=np.quantile(arr,0.5)\n",
    "    d[\"q3\"]=np.quantile(arr,.75)\n",
    "    getOutliers(outliers_iqr(arr)[0],arr)  \n",
    "    d[\"max\"]=np.max(arr)\n",
    "    d[\"min\"]= np.min(arr)\n",
    "    \n",
    "    return d"
   ]
  },
  {
   "cell_type": "code",
   "execution_count": 104,
   "metadata": {},
   "outputs": [
    {
     "name": "stdout",
     "output_type": "stream",
     "text": [
      "The outliers are: [0, 0, 14]\n",
      "{'q1': 63.0, 'q2': 78.0, 'q3': 87.0, 'max': 100, 'min': 35}\n"
     ]
    }
   ],
   "source": [
    "answer = q_summary_V1(grades)\n",
    "print(answer)"
   ]
  },
  {
   "cell_type": "code",
   "execution_count": 105,
   "metadata": {},
   "outputs": [
    {
     "name": "stdout",
     "output_type": "stream",
     "text": [
      "The outliers are: [89]\n",
      "{'q1': 15.0, 'q2': 22.5, 'q3': 41.25, 'max': 65, 'min': 5}\n"
     ]
    }
   ],
   "source": [
    "answer2 = q_summary_V1(times)\n",
    "print(answer2)"
   ]
  },
  {
   "cell_type": "code",
   "execution_count": null,
   "metadata": {},
   "outputs": [],
   "source": []
  },
  {
   "cell_type": "code",
   "execution_count": null,
   "metadata": {},
   "outputs": [],
   "source": []
  },
  {
   "cell_type": "code",
   "execution_count": null,
   "metadata": {},
   "outputs": [],
   "source": []
  },
  {
   "cell_type": "markdown",
   "metadata": {},
   "source": [
    "### Please answer Problem 3 below:"
   ]
  },
  {
   "cell_type": "code",
   "execution_count": 120,
   "metadata": {},
   "outputs": [],
   "source": [
    "import numpy as np\n",
    "def get_quantile_indexes(n, p):\n",
    "    '''\n",
    "    Calculate index values as input for interpolation\n",
    "    \n",
    "    input\n",
    "    _____\n",
    "    n (list) - the list of numbers\n",
    "    p (float) - the percentage corresponding to the quantile (ex:0.25)\n",
    "    \n",
    "    output\n",
    "    ______\n",
    "    l, i, u (float) - the corresponding x1, x, x1 values as calculated via class\n",
    "    '''\n",
    "    i = p*(n+1) - 1\n",
    "    l = np.floor(i)\n",
    "    u = np.ceil(i)\n",
    "    return l,i,u\n",
    "\n",
    "\n",
    "def get_quantile(nums, q):\n",
    "    '''\n",
    "    Use the in-class method of interpolation to calculate the quantile\n",
    "    \n",
    "    input\n",
    "    _____\n",
    "    nums (list) - the list of numbers\n",
    "    q (float) - the quantile desired\n",
    "    \n",
    "    output\n",
    "    ______\n",
    "    y (int/float) - this is the value in nums at the given quantile q\n",
    "    '''\n",
    "    x1, x, x2 = get_quantile_indexes( len(nums), q)\n",
    "    if np.floor(x) == x1 and np.ceil(x) == x1:\n",
    "        x = int(x)\n",
    "        y = nums[x]\n",
    "        # print('x = {}, y = {}'.format(x, y))\n",
    "        return y\n",
    "        \n",
    "    # print('x1, x, x2 = {}, {}, {}'.format(x1, x, x2))\n",
    "   \n",
    "    y1, y2 = nums[int(x1)], nums[int(x2)]\n",
    "    \n",
    "    # print('y1, y2 = {}, {}'.format(y1, y2))\n",
    "    y = (x - x1) * (y1-y2) / (x1 - x2) + y1\n",
    "    # print('y =', y)\n",
    "    return y\n",
    "def outliers_iqr(ys,q1,q3):   #gets the outliers\n",
    "    iqr = q3 - q1\n",
    "    lower_bound = q1 - (iqr * 1.5)\n",
    "    upper_bound = q3 + (iqr * 1.5)\n",
    "    return np.where((ys > upper_bound) | (ys < lower_bound))\n",
    "\n",
    "def getOutliers(lst,arr):  #removes the outliers from the list\n",
    "    outliers = [arr[i] for i in lst]\n",
    "    print(outliers)\n",
    "    [arr.remove(num) for num in outliers]\n",
    "    return arr\n",
    "\n",
    "def q_summary_V2(arr):  #function to get quantiles using class method\n",
    "    d = {}\n",
    "    arr2 = np.asarray(arr)\n",
    "    print(\"The outliers are: \",end = \"\")\n",
    "    d[\"q1\"]=get_quantile(arr2, 0.25)\n",
    "    d[\"q2\"]=get_quantile(arr2, 0.5)\n",
    "    d[\"q3\"]=get_quantile(arr2, 0.75)\n",
    "    arr3 = getOutliers(outliers_iqr(arr2,d[\"q1\"],d['q3'])[0],arr) \n",
    "    \n",
    "    d[\"max\"]=np.max(arr3)\n",
    "    d[\"min\"]= np.min(arr3)\n",
    "    \n",
    "    return d\n",
    "\n",
    "\n",
    "\n"
   ]
  },
  {
   "cell_type": "code",
   "execution_count": 121,
   "metadata": {},
   "outputs": [
    {
     "name": "stdout",
     "output_type": "stream",
     "text": [
      "The outliers are: []\n",
      "{'q1': 49.0, 'q2': 78, 'q3': 88.0, 'max': 100, 'min': 0}\n"
     ]
    }
   ],
   "source": [
    "grades = [0, 0, 14, 35, 63, 66, 75, 77, 78, 80, 81, 81, 87, 89, 90, 91, 100]\n",
    "print(q_summary_V2(grades))"
   ]
  },
  {
   "cell_type": "code",
   "execution_count": 118,
   "metadata": {},
   "outputs": [
    {
     "name": "stdout",
     "output_type": "stream",
     "text": [
      "The outliers are: [89]\n",
      "{'q1': 15.0, 'q2': 22.5, 'q3': 43.75, 'max': 65, 'min': 5}\n"
     ]
    }
   ],
   "source": [
    "times = [5, 10, 10, 15, 15, 15, 15, 20, 20, 20, 25, 30, 30, 40, 40, 45, 60, 60, 65, 89]\n",
    "print(q_summary_V2(times))"
   ]
  },
  {
   "cell_type": "code",
   "execution_count": null,
   "metadata": {},
   "outputs": [],
   "source": []
  },
  {
   "cell_type": "code",
   "execution_count": null,
   "metadata": {},
   "outputs": [],
   "source": []
  }
 ],
 "metadata": {
  "kernelspec": {
   "display_name": "Python 3",
   "language": "python",
   "name": "python3"
  },
  "language_info": {
   "codemirror_mode": {
    "name": "ipython",
    "version": 3
   },
   "file_extension": ".py",
   "mimetype": "text/x-python",
   "name": "python",
   "nbconvert_exporter": "python",
   "pygments_lexer": "ipython3",
   "version": "3.7.4"
  }
 },
 "nbformat": 4,
 "nbformat_minor": 2
}
