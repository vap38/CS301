{
 "cells": [
  {
   "cell_type": "markdown",
   "metadata": {
    "colab_type": "text",
    "id": "8FhBtSmc7x81"
   },
   "source": [
    "## Author: \n",
    "## Date: \n",
    "## CS301-006, Professor Watson\n",
    "## HW06 Solution\n",
    "\n",
    "The purpose of this assignment is to help students practice using Python to prepare their data sets for machine learning.\n",
    "\n",
    "link to the git repo:"
   ]
  },
  {
   "cell_type": "code",
   "execution_count": null,
   "metadata": {},
   "outputs": [],
   "source": [
    "#Vaishnavi Patel\n",
    "#4/3/2020\n",
    "#CS301-006 Prof Watson\n",
    "#HW06\n",
    "#Github link: https://github.com/vap38/CS301\n"
   ]
  },
  {
   "cell_type": "code",
   "execution_count": 0,
   "metadata": {
    "colab": {},
    "colab_type": "code",
    "id": "DcawqODN7x83"
   },
   "outputs": [],
   "source": [
    "import pandas as pd\n",
    "import numpy as np"
   ]
  },
  {
   "cell_type": "markdown",
   "metadata": {
    "colab_type": "text",
    "id": "lrHQ0m077x86"
   },
   "source": [
    "#### Question 1 - Read in the data set and print the % empty values for each column. Are there any columns with missing values?"
   ]
  },
  {
   "cell_type": "code",
   "execution_count": 0,
   "metadata": {
    "colab": {},
    "colab_type": "code",
    "id": "jV6ltVMj7x87"
   },
   "outputs": [],
   "source": [
    "data_dir = 'groundhog.csv'"
   ]
  },
  {
   "cell_type": "code",
   "execution_count": 3,
   "metadata": {
    "colab": {
     "base_uri": "https://localhost:8080/",
     "height": 393
    },
    "colab_type": "code",
    "id": "oyP9sRQz7x8-",
    "outputId": "8cb1ed87-ddbd-4264-ea5b-ddc954108d51"
   },
   "outputs": [
    {
     "data": {
      "text/html": [
       "<div>\n",
       "<style scoped>\n",
       "    .dataframe tbody tr th:only-of-type {\n",
       "        vertical-align: middle;\n",
       "    }\n",
       "\n",
       "    .dataframe tbody tr th {\n",
       "        vertical-align: top;\n",
       "    }\n",
       "\n",
       "    .dataframe thead th {\n",
       "        text-align: right;\n",
       "    }\n",
       "</style>\n",
       "<table border=\"1\" class=\"dataframe\">\n",
       "  <thead>\n",
       "    <tr style=\"text-align: right;\">\n",
       "      <th></th>\n",
       "      <th>Unnamed: 0</th>\n",
       "      <th>Year</th>\n",
       "      <th>Punxsutawney Phil</th>\n",
       "      <th>February Average Temperature</th>\n",
       "      <th>February Average Temperature (Northeast)</th>\n",
       "      <th>February Average Temperature (Midwest)</th>\n",
       "      <th>February Average Temperature (Pennsylvania)</th>\n",
       "      <th>March Average Temperature</th>\n",
       "      <th>March Average Temperature (Northeast)</th>\n",
       "      <th>March Average Temperature (Midwest)</th>\n",
       "      <th>March Average Temperature (Pennsylvania)</th>\n",
       "    </tr>\n",
       "  </thead>\n",
       "  <tbody>\n",
       "    <tr>\n",
       "      <th>0</th>\n",
       "      <td>0</td>\n",
       "      <td>1886</td>\n",
       "      <td>No Record</td>\n",
       "      <td>NaN</td>\n",
       "      <td>NaN</td>\n",
       "      <td>NaN</td>\n",
       "      <td>NaN</td>\n",
       "      <td>NaN</td>\n",
       "      <td>NaN</td>\n",
       "      <td>NaN</td>\n",
       "      <td>NaN</td>\n",
       "    </tr>\n",
       "    <tr>\n",
       "      <th>1</th>\n",
       "      <td>1</td>\n",
       "      <td>1887</td>\n",
       "      <td>Full Shadow</td>\n",
       "      <td>NaN</td>\n",
       "      <td>NaN</td>\n",
       "      <td>NaN</td>\n",
       "      <td>NaN</td>\n",
       "      <td>NaN</td>\n",
       "      <td>NaN</td>\n",
       "      <td>NaN</td>\n",
       "      <td>NaN</td>\n",
       "    </tr>\n",
       "    <tr>\n",
       "      <th>2</th>\n",
       "      <td>2</td>\n",
       "      <td>1888</td>\n",
       "      <td>Full Shadow</td>\n",
       "      <td>NaN</td>\n",
       "      <td>NaN</td>\n",
       "      <td>NaN</td>\n",
       "      <td>NaN</td>\n",
       "      <td>NaN</td>\n",
       "      <td>NaN</td>\n",
       "      <td>NaN</td>\n",
       "      <td>NaN</td>\n",
       "    </tr>\n",
       "    <tr>\n",
       "      <th>3</th>\n",
       "      <td>3</td>\n",
       "      <td>1889</td>\n",
       "      <td>No Record</td>\n",
       "      <td>NaN</td>\n",
       "      <td>NaN</td>\n",
       "      <td>NaN</td>\n",
       "      <td>NaN</td>\n",
       "      <td>NaN</td>\n",
       "      <td>NaN</td>\n",
       "      <td>NaN</td>\n",
       "      <td>NaN</td>\n",
       "    </tr>\n",
       "    <tr>\n",
       "      <th>4</th>\n",
       "      <td>4</td>\n",
       "      <td>1890</td>\n",
       "      <td>No Shadow</td>\n",
       "      <td>NaN</td>\n",
       "      <td>NaN</td>\n",
       "      <td>NaN</td>\n",
       "      <td>NaN</td>\n",
       "      <td>NaN</td>\n",
       "      <td>NaN</td>\n",
       "      <td>NaN</td>\n",
       "      <td>NaN</td>\n",
       "    </tr>\n",
       "    <tr>\n",
       "      <th>5</th>\n",
       "      <td>5</td>\n",
       "      <td>1891</td>\n",
       "      <td>No Record</td>\n",
       "      <td>NaN</td>\n",
       "      <td>NaN</td>\n",
       "      <td>NaN</td>\n",
       "      <td>NaN</td>\n",
       "      <td>NaN</td>\n",
       "      <td>NaN</td>\n",
       "      <td>NaN</td>\n",
       "      <td>NaN</td>\n",
       "    </tr>\n",
       "    <tr>\n",
       "      <th>6</th>\n",
       "      <td>6</td>\n",
       "      <td>1892</td>\n",
       "      <td>No Record</td>\n",
       "      <td>NaN</td>\n",
       "      <td>NaN</td>\n",
       "      <td>NaN</td>\n",
       "      <td>NaN</td>\n",
       "      <td>NaN</td>\n",
       "      <td>NaN</td>\n",
       "      <td>NaN</td>\n",
       "      <td>NaN</td>\n",
       "    </tr>\n",
       "    <tr>\n",
       "      <th>7</th>\n",
       "      <td>7</td>\n",
       "      <td>1893</td>\n",
       "      <td>No Record</td>\n",
       "      <td>NaN</td>\n",
       "      <td>NaN</td>\n",
       "      <td>NaN</td>\n",
       "      <td>NaN</td>\n",
       "      <td>NaN</td>\n",
       "      <td>NaN</td>\n",
       "      <td>NaN</td>\n",
       "      <td>NaN</td>\n",
       "    </tr>\n",
       "    <tr>\n",
       "      <th>8</th>\n",
       "      <td>8</td>\n",
       "      <td>1894</td>\n",
       "      <td>No Record</td>\n",
       "      <td>NaN</td>\n",
       "      <td>NaN</td>\n",
       "      <td>NaN</td>\n",
       "      <td>NaN</td>\n",
       "      <td>NaN</td>\n",
       "      <td>NaN</td>\n",
       "      <td>NaN</td>\n",
       "      <td>NaN</td>\n",
       "    </tr>\n",
       "    <tr>\n",
       "      <th>9</th>\n",
       "      <td>9</td>\n",
       "      <td>1895</td>\n",
       "      <td>No Record</td>\n",
       "      <td>26.6</td>\n",
       "      <td>15.6</td>\n",
       "      <td>21.9</td>\n",
       "      <td>17.0</td>\n",
       "      <td>39.97</td>\n",
       "      <td>27.6</td>\n",
       "      <td>40.2</td>\n",
       "      <td>31.3</td>\n",
       "    </tr>\n",
       "  </tbody>\n",
       "</table>\n",
       "</div>"
      ],
      "text/plain": [
       "   Unnamed: 0  ...  March Average Temperature (Pennsylvania)\n",
       "0           0  ...                                       NaN\n",
       "1           1  ...                                       NaN\n",
       "2           2  ...                                       NaN\n",
       "3           3  ...                                       NaN\n",
       "4           4  ...                                       NaN\n",
       "5           5  ...                                       NaN\n",
       "6           6  ...                                       NaN\n",
       "7           7  ...                                       NaN\n",
       "8           8  ...                                       NaN\n",
       "9           9  ...                                      31.3\n",
       "\n",
       "[10 rows x 11 columns]"
      ]
     },
     "execution_count": 3,
     "metadata": {
      "tags": []
     },
     "output_type": "execute_result"
    }
   ],
   "source": [
    "df = pd.read_csv(data_dir)\n",
    "df.head(10)"
   ]
  },
  {
   "cell_type": "code",
   "execution_count": 4,
   "metadata": {
    "colab": {
     "base_uri": "https://localhost:8080/",
     "height": 221
    },
    "colab_type": "code",
    "id": "TcaSUMwp7x9B",
    "outputId": "34b7ae09-9e2c-44ef-9df6-508081f3cb18"
   },
   "outputs": [
    {
     "data": {
      "text/plain": [
       "Unnamed: 0                                     0.000000\n",
       "Year                                           0.000000\n",
       "Punxsutawney Phil                              0.000000\n",
       "February Average Temperature                   6.870229\n",
       "February Average Temperature (Northeast)       6.870229\n",
       "February Average Temperature (Midwest)         6.870229\n",
       "February Average Temperature (Pennsylvania)    6.870229\n",
       "March Average Temperature                      6.870229\n",
       "March Average Temperature (Northeast)          6.870229\n",
       "March Average Temperature (Midwest)            6.870229\n",
       "March Average Temperature (Pennsylvania)       6.870229\n",
       "dtype: float64"
      ]
     },
     "execution_count": 4,
     "metadata": {
      "tags": []
     },
     "output_type": "execute_result"
    }
   ],
   "source": [
    "(df.isnull().sum()/ df.shape[0]) * 100.00"
   ]
  },
  {
   "cell_type": "markdown",
   "metadata": {
    "colab_type": "text",
    "id": "5ChhYfce9s5S"
   },
   "source": [
    "There are 2 columns with no null values. <br>\n",
    "1. Year <br>\n",
    "2. Punxsutawney Phil"
   ]
  },
  {
   "cell_type": "markdown",
   "metadata": {
    "colab_type": "text",
    "id": "rTGqNsO77x9H"
   },
   "source": [
    "#### Question 2 - Create a new dataframe which is a copy of the orginal one. In this copy, replace the missing values in the data set using one of the discussed methods in class."
   ]
  },
  {
   "cell_type": "code",
   "execution_count": 0,
   "metadata": {
    "colab": {},
    "colab_type": "code",
    "id": "fz2F3jPC7x9H"
   },
   "outputs": [],
   "source": [
    "df_new = df "
   ]
  },
  {
   "cell_type": "code",
   "execution_count": 0,
   "metadata": {
    "colab": {},
    "colab_type": "code",
    "id": "OrlWpe_H7x9K"
   },
   "outputs": [],
   "source": [
    "df_new = df_new.fillna(df_new.mean())"
   ]
  },
  {
   "cell_type": "markdown",
   "metadata": {
    "colab_type": "text",
    "id": "LvRn0ffX7x9N"
   },
   "source": [
    "#### Question 3 - Is your proposed method from Question 2 appropriate in this case? Why or why not?"
   ]
  },
  {
   "cell_type": "code",
   "execution_count": 7,
   "metadata": {
    "colab": {
     "base_uri": "https://localhost:8080/",
     "height": 238
    },
    "colab_type": "code",
    "id": "NgzIE6qq7x9O",
    "outputId": "67235fb5-3c8f-437e-a0ba-af1aa386bf15"
   },
   "outputs": [
    {
     "name": "stdout",
     "output_type": "stream",
     "text": [
      "[[0.00000000e+00 2.58915913e-15 3.04008467e-15 ... 3.80157210e-15\n",
      "  3.27756800e-15 1.75654330e-15]\n",
      " [0.00000000e+00 2.58915913e-15 3.04008467e-15 ... 3.80157210e-15\n",
      "  3.27756800e-15 1.75654330e-15]\n",
      " [0.00000000e+00 2.58915913e-15 3.04008467e-15 ... 3.80157210e-15\n",
      "  3.27756800e-15 1.75654330e-15]\n",
      " ...\n",
      " [5.30163499e-01 4.11384351e-01 1.19676342e+00 ... 1.70352426e+00\n",
      "  1.05375257e+00 1.38641068e+00]\n",
      " [2.57586666e-01 2.57344209e+00 1.98829310e+00 ... 1.22200292e+00\n",
      "  2.23454527e-01 1.06503574e+00]\n",
      " [1.79624807e+00 1.31340328e+00 8.99720601e-01 ... 1.72062748e+00\n",
      "  1.59858839e+00 1.85205987e+00]]\n"
     ]
    }
   ],
   "source": [
    "from scipy import stats\n",
    "\n",
    "z = np.abs(stats.zscore(df_new[['February Average Temperature','February Average Temperature (Northeast)','February Average Temperature (Midwest)','February Average Temperature (Pennsylvania)','March Average Temperature','March Average Temperature (Northeast)',\t'March Average Temperature (Midwest)',\t'March Average Temperature (Pennsylvania)']]))\n",
    "print(z)"
   ]
  },
  {
   "cell_type": "code",
   "execution_count": 8,
   "metadata": {
    "colab": {
     "base_uri": "https://localhost:8080/",
     "height": 34
    },
    "colab_type": "code",
    "id": "T-JKbjT77x9R",
    "outputId": "7d00faf0-04e0-4022-8a89-46c7d7ad28fa"
   },
   "outputs": [
    {
     "name": "stdout",
     "output_type": "stream",
     "text": [
      "(array([ 74, 126, 126]), array([6, 4, 6]))\n"
     ]
    }
   ],
   "source": [
    "threshold = 3\n",
    "print(np.where(z > 3))"
   ]
  },
  {
   "cell_type": "markdown",
   "metadata": {
    "colab_type": "text",
    "id": "0WHNf7ImIT73"
   },
   "source": [
    "The above 2 cells show that only 3 elements from the whole dataset have a z-score more than 3. So we don't have many outliers. Hence, choosing mean as a method of filling in missing values is appropriate. "
   ]
  },
  {
   "cell_type": "markdown",
   "metadata": {
    "colab_type": "text",
    "id": "DQCD8-ze7x9U"
   },
   "source": [
    "#### Question 4 - Using the original dataframe (unchanged from Questoins 2, 3), create a mapping for the \"Punxsutawney Phil\" column which changes the categories into numerical quantities. For example: 'No Record' can be 0, 'No Shadow' can be 1, 'Partial Shadow' can be 2, and 'Full Shadow' can be 3. You should create the mapping *and* apply it to the data set by adding a new column called \"Shadow\"."
   ]
  },
  {
   "cell_type": "code",
   "execution_count": 0,
   "metadata": {
    "colab": {},
    "colab_type": "code",
    "id": "K3r0JPc97x9U"
   },
   "outputs": [],
   "source": [
    "def mapping(state):\n",
    "    if state == 'No Record':\n",
    "        return 0\n",
    "    elif state == 'No Shadow':\n",
    "        return 1\n",
    "    elif state == 'Partial Shadow':\n",
    "        return 2 \n",
    "    elif state == 'Full Shadow':\n",
    "        return 3  "
   ]
  },
  {
   "cell_type": "code",
   "execution_count": 0,
   "metadata": {
    "colab": {},
    "colab_type": "code",
    "id": "eRrrhDTD7x9X"
   },
   "outputs": [],
   "source": [
    "df['Shadow'] = df['Punxsutawney Phil']\n",
    "df['Shadow'] = df.Shadow.apply(mapping)"
   ]
  },
  {
   "cell_type": "code",
   "execution_count": 11,
   "metadata": {
    "colab": {
     "base_uri": "https://localhost:8080/",
     "height": 238
    },
    "colab_type": "code",
    "id": "qKUMYop7PIKr",
    "outputId": "6476f050-9ae4-4f9c-fb5d-350caa2408c7"
   },
   "outputs": [
    {
     "data": {
      "text/html": [
       "<div>\n",
       "<style scoped>\n",
       "    .dataframe tbody tr th:only-of-type {\n",
       "        vertical-align: middle;\n",
       "    }\n",
       "\n",
       "    .dataframe tbody tr th {\n",
       "        vertical-align: top;\n",
       "    }\n",
       "\n",
       "    .dataframe thead th {\n",
       "        text-align: right;\n",
       "    }\n",
       "</style>\n",
       "<table border=\"1\" class=\"dataframe\">\n",
       "  <thead>\n",
       "    <tr style=\"text-align: right;\">\n",
       "      <th></th>\n",
       "      <th>Unnamed: 0</th>\n",
       "      <th>Year</th>\n",
       "      <th>Punxsutawney Phil</th>\n",
       "      <th>February Average Temperature</th>\n",
       "      <th>February Average Temperature (Northeast)</th>\n",
       "      <th>February Average Temperature (Midwest)</th>\n",
       "      <th>February Average Temperature (Pennsylvania)</th>\n",
       "      <th>March Average Temperature</th>\n",
       "      <th>March Average Temperature (Northeast)</th>\n",
       "      <th>March Average Temperature (Midwest)</th>\n",
       "      <th>March Average Temperature (Pennsylvania)</th>\n",
       "      <th>Shadow</th>\n",
       "    </tr>\n",
       "  </thead>\n",
       "  <tbody>\n",
       "    <tr>\n",
       "      <th>0</th>\n",
       "      <td>0</td>\n",
       "      <td>1886</td>\n",
       "      <td>No Record</td>\n",
       "      <td>NaN</td>\n",
       "      <td>NaN</td>\n",
       "      <td>NaN</td>\n",
       "      <td>NaN</td>\n",
       "      <td>NaN</td>\n",
       "      <td>NaN</td>\n",
       "      <td>NaN</td>\n",
       "      <td>NaN</td>\n",
       "      <td>0</td>\n",
       "    </tr>\n",
       "    <tr>\n",
       "      <th>1</th>\n",
       "      <td>1</td>\n",
       "      <td>1887</td>\n",
       "      <td>Full Shadow</td>\n",
       "      <td>NaN</td>\n",
       "      <td>NaN</td>\n",
       "      <td>NaN</td>\n",
       "      <td>NaN</td>\n",
       "      <td>NaN</td>\n",
       "      <td>NaN</td>\n",
       "      <td>NaN</td>\n",
       "      <td>NaN</td>\n",
       "      <td>3</td>\n",
       "    </tr>\n",
       "    <tr>\n",
       "      <th>2</th>\n",
       "      <td>2</td>\n",
       "      <td>1888</td>\n",
       "      <td>Full Shadow</td>\n",
       "      <td>NaN</td>\n",
       "      <td>NaN</td>\n",
       "      <td>NaN</td>\n",
       "      <td>NaN</td>\n",
       "      <td>NaN</td>\n",
       "      <td>NaN</td>\n",
       "      <td>NaN</td>\n",
       "      <td>NaN</td>\n",
       "      <td>3</td>\n",
       "    </tr>\n",
       "    <tr>\n",
       "      <th>3</th>\n",
       "      <td>3</td>\n",
       "      <td>1889</td>\n",
       "      <td>No Record</td>\n",
       "      <td>NaN</td>\n",
       "      <td>NaN</td>\n",
       "      <td>NaN</td>\n",
       "      <td>NaN</td>\n",
       "      <td>NaN</td>\n",
       "      <td>NaN</td>\n",
       "      <td>NaN</td>\n",
       "      <td>NaN</td>\n",
       "      <td>0</td>\n",
       "    </tr>\n",
       "    <tr>\n",
       "      <th>4</th>\n",
       "      <td>4</td>\n",
       "      <td>1890</td>\n",
       "      <td>No Shadow</td>\n",
       "      <td>NaN</td>\n",
       "      <td>NaN</td>\n",
       "      <td>NaN</td>\n",
       "      <td>NaN</td>\n",
       "      <td>NaN</td>\n",
       "      <td>NaN</td>\n",
       "      <td>NaN</td>\n",
       "      <td>NaN</td>\n",
       "      <td>1</td>\n",
       "    </tr>\n",
       "  </tbody>\n",
       "</table>\n",
       "</div>"
      ],
      "text/plain": [
       "   Unnamed: 0  Year  ... March Average Temperature (Pennsylvania)  Shadow\n",
       "0           0  1886  ...                                      NaN       0\n",
       "1           1  1887  ...                                      NaN       3\n",
       "2           2  1888  ...                                      NaN       3\n",
       "3           3  1889  ...                                      NaN       0\n",
       "4           4  1890  ...                                      NaN       1\n",
       "\n",
       "[5 rows x 12 columns]"
      ]
     },
     "execution_count": 11,
     "metadata": {
      "tags": []
     },
     "output_type": "execute_result"
    }
   ],
   "source": [
    "df.head()"
   ]
  },
  {
   "cell_type": "markdown",
   "metadata": {
    "colab_type": "text",
    "id": "GzkhBWUa7x9a"
   },
   "source": [
    "#### Question 5 - For all rows which have no record, remove the rows which have empty values in all of the quantitative columns. (Only 6 should be removed.)"
   ]
  },
  {
   "cell_type": "code",
   "execution_count": 0,
   "metadata": {
    "colab": {},
    "colab_type": "code",
    "id": "kPxgNpew7x9b"
   },
   "outputs": [],
   "source": [
    "arbitrary = df[df['Punxsutawney Phil'] == 'No Record'] \n",
    "arbitrary = arbitrary[arbitrary.isnull().any(axis=1)] "
   ]
  },
  {
   "cell_type": "code",
   "execution_count": 13,
   "metadata": {
    "colab": {
     "base_uri": "https://localhost:8080/",
     "height": 238
    },
    "colab_type": "code",
    "id": "nq6mbZeA7x9d",
    "outputId": "79c0d17f-e62d-41fc-8d68-cfdf139050fe"
   },
   "outputs": [
    {
     "data": {
      "text/html": [
       "<div>\n",
       "<style scoped>\n",
       "    .dataframe tbody tr th:only-of-type {\n",
       "        vertical-align: middle;\n",
       "    }\n",
       "\n",
       "    .dataframe tbody tr th {\n",
       "        vertical-align: top;\n",
       "    }\n",
       "\n",
       "    .dataframe thead th {\n",
       "        text-align: right;\n",
       "    }\n",
       "</style>\n",
       "<table border=\"1\" class=\"dataframe\">\n",
       "  <thead>\n",
       "    <tr style=\"text-align: right;\">\n",
       "      <th></th>\n",
       "      <th>Unnamed: 0</th>\n",
       "      <th>Year</th>\n",
       "      <th>Punxsutawney Phil</th>\n",
       "      <th>February Average Temperature</th>\n",
       "      <th>February Average Temperature (Northeast)</th>\n",
       "      <th>February Average Temperature (Midwest)</th>\n",
       "      <th>February Average Temperature (Pennsylvania)</th>\n",
       "      <th>March Average Temperature</th>\n",
       "      <th>March Average Temperature (Northeast)</th>\n",
       "      <th>March Average Temperature (Midwest)</th>\n",
       "      <th>March Average Temperature (Pennsylvania)</th>\n",
       "      <th>Shadow</th>\n",
       "    </tr>\n",
       "  </thead>\n",
       "  <tbody>\n",
       "    <tr>\n",
       "      <th>1</th>\n",
       "      <td>1</td>\n",
       "      <td>1887</td>\n",
       "      <td>Full Shadow</td>\n",
       "      <td>NaN</td>\n",
       "      <td>NaN</td>\n",
       "      <td>NaN</td>\n",
       "      <td>NaN</td>\n",
       "      <td>NaN</td>\n",
       "      <td>NaN</td>\n",
       "      <td>NaN</td>\n",
       "      <td>NaN</td>\n",
       "      <td>3</td>\n",
       "    </tr>\n",
       "    <tr>\n",
       "      <th>2</th>\n",
       "      <td>2</td>\n",
       "      <td>1888</td>\n",
       "      <td>Full Shadow</td>\n",
       "      <td>NaN</td>\n",
       "      <td>NaN</td>\n",
       "      <td>NaN</td>\n",
       "      <td>NaN</td>\n",
       "      <td>NaN</td>\n",
       "      <td>NaN</td>\n",
       "      <td>NaN</td>\n",
       "      <td>NaN</td>\n",
       "      <td>3</td>\n",
       "    </tr>\n",
       "    <tr>\n",
       "      <th>4</th>\n",
       "      <td>4</td>\n",
       "      <td>1890</td>\n",
       "      <td>No Shadow</td>\n",
       "      <td>NaN</td>\n",
       "      <td>NaN</td>\n",
       "      <td>NaN</td>\n",
       "      <td>NaN</td>\n",
       "      <td>NaN</td>\n",
       "      <td>NaN</td>\n",
       "      <td>NaN</td>\n",
       "      <td>NaN</td>\n",
       "      <td>1</td>\n",
       "    </tr>\n",
       "    <tr>\n",
       "      <th>9</th>\n",
       "      <td>9</td>\n",
       "      <td>1895</td>\n",
       "      <td>No Record</td>\n",
       "      <td>26.60</td>\n",
       "      <td>15.6</td>\n",
       "      <td>21.9</td>\n",
       "      <td>17.0</td>\n",
       "      <td>39.97</td>\n",
       "      <td>27.6</td>\n",
       "      <td>40.2</td>\n",
       "      <td>31.3</td>\n",
       "      <td>0</td>\n",
       "    </tr>\n",
       "    <tr>\n",
       "      <th>10</th>\n",
       "      <td>10</td>\n",
       "      <td>1896</td>\n",
       "      <td>No Record</td>\n",
       "      <td>35.04</td>\n",
       "      <td>22.2</td>\n",
       "      <td>33.5</td>\n",
       "      <td>26.6</td>\n",
       "      <td>38.03</td>\n",
       "      <td>25.3</td>\n",
       "      <td>36.9</td>\n",
       "      <td>27.8</td>\n",
       "      <td>0</td>\n",
       "    </tr>\n",
       "  </tbody>\n",
       "</table>\n",
       "</div>"
      ],
      "text/plain": [
       "    Unnamed: 0  Year  ... March Average Temperature (Pennsylvania)  Shadow\n",
       "1            1  1887  ...                                      NaN       3\n",
       "2            2  1888  ...                                      NaN       3\n",
       "4            4  1890  ...                                      NaN       1\n",
       "9            9  1895  ...                                     31.3       0\n",
       "10          10  1896  ...                                     27.8       0\n",
       "\n",
       "[5 rows x 12 columns]"
      ]
     },
     "execution_count": 13,
     "metadata": {
      "tags": []
     },
     "output_type": "execute_result"
    }
   ],
   "source": [
    "cond = df['Year'].isin(arbitrary['Year'])\n",
    "df.drop(df[cond].index, inplace = True)\n",
    "df.head()"
   ]
  },
  {
   "cell_type": "markdown",
   "metadata": {
    "colab_type": "text",
    "id": "4hW7YF3D7x9g"
   },
   "source": [
    "#### Question 6 - For the remaining rows which have no record (but the other columns *are* populated), determine an appropriate method for inputting the value for this column. Explain your reasoning, and show your work below (using pandas)."
   ]
  },
  {
   "cell_type": "code",
   "execution_count": 0,
   "metadata": {
    "colab": {},
    "colab_type": "code",
    "id": "UA6Byq7a7x9j"
   },
   "outputs": [],
   "source": [
    "df_no_record = df[(df['Shadow'] == 0)]\n",
    "df_no_record = df_no_record.iloc[:, 3:11]\n",
    "nrlist = df_no_record.mean().to_list()\n",
    "\n",
    "df_no_shadow = df[(df['Shadow'] == 1)]\n",
    "df_no_shadow = df_no_shadow.iloc[:, 3:11]\n",
    "nslist = df_no_shadow.mean().to_list()\n",
    "\n",
    "df_partial = df[(df['Shadow'] == 2)]\n",
    "df_partial = df_partial.iloc[:, 3:11]\n",
    "plist = df_partial.mean().to_list()\n",
    "\n",
    "df_full = df[(df['Shadow'] == 3)]\n",
    "df_full = df_full.iloc[:, 3:11]\n",
    "flist = df_full.mean().to_list()"
   ]
  },
  {
   "cell_type": "code",
   "execution_count": 15,
   "metadata": {
    "colab": {
     "base_uri": "https://localhost:8080/",
     "height": 34
    },
    "colab_type": "code",
    "id": "F1VZhEX-7x9l",
    "outputId": "3947793f-36a8-4240-db28-4b00f5740553"
   },
   "outputs": [
    {
     "name": "stdout",
     "output_type": "stream",
     "text": [
      "-3.6584285714285714 -1.6126190476190476 -2.709519047619047\n"
     ]
    }
   ],
   "source": [
    "from statistics import mean\n",
    "nsdiff = []\n",
    "pdiff = []\n",
    "fdiff = []\n",
    "for i in range(7):\n",
    "    nsdiff.append(nrlist[i] - nslist [i])\n",
    "    pdiff.append(nrlist[i] - plist [i])\n",
    "    fdiff.append(nrlist[i] - flist [i])\n",
    "print (mean(nsdiff), mean(pdiff), mean(fdiff))"
   ]
  },
  {
   "cell_type": "code",
   "execution_count": 1,
   "metadata": {},
   "outputs": [],
   "source": [
    " #the vast majority of shadows are full, so I made the remaining 3 full too since I failed to find any other correlation"
   ]
  },
  {
   "cell_type": "markdown",
   "metadata": {
    "colab_type": "text",
    "id": "xHeYFCly4DUH"
   },
   "source": [
    "From the above observations, partial shadow is the closest to the three rows with no records so it's better to replace no record with partial shadow."
   ]
  },
  {
   "cell_type": "code",
   "execution_count": 0,
   "metadata": {
    "colab": {},
    "colab_type": "code",
    "id": "9jQ94zVh4XOs"
   },
   "outputs": [],
   "source": [
    "df['Shadow'].replace(to_replace =0, value =2, inplace = True) \n",
    "df['Punxsutawney Phil'].replace(to_replace =\"No Record\", value =\"Partial Shadow\", inplace = True) "
   ]
  },
  {
   "cell_type": "code",
   "execution_count": 17,
   "metadata": {
    "colab": {
     "base_uri": "https://localhost:8080/",
     "height": 272
    },
    "colab_type": "code",
    "id": "BnmpPTSq6D4-",
    "outputId": "ef5860d2-2f34-4ec2-94f7-1444bad52620"
   },
   "outputs": [
    {
     "data": {
      "text/html": [
       "<div>\n",
       "<style scoped>\n",
       "    .dataframe tbody tr th:only-of-type {\n",
       "        vertical-align: middle;\n",
       "    }\n",
       "\n",
       "    .dataframe tbody tr th {\n",
       "        vertical-align: top;\n",
       "    }\n",
       "\n",
       "    .dataframe thead th {\n",
       "        text-align: right;\n",
       "    }\n",
       "</style>\n",
       "<table border=\"1\" class=\"dataframe\">\n",
       "  <thead>\n",
       "    <tr style=\"text-align: right;\">\n",
       "      <th></th>\n",
       "      <th>Unnamed: 0</th>\n",
       "      <th>Year</th>\n",
       "      <th>Punxsutawney Phil</th>\n",
       "      <th>February Average Temperature</th>\n",
       "      <th>February Average Temperature (Northeast)</th>\n",
       "      <th>February Average Temperature (Midwest)</th>\n",
       "      <th>February Average Temperature (Pennsylvania)</th>\n",
       "      <th>March Average Temperature</th>\n",
       "      <th>March Average Temperature (Northeast)</th>\n",
       "      <th>March Average Temperature (Midwest)</th>\n",
       "      <th>March Average Temperature (Pennsylvania)</th>\n",
       "      <th>Shadow</th>\n",
       "    </tr>\n",
       "  </thead>\n",
       "  <tbody>\n",
       "    <tr>\n",
       "      <th>1</th>\n",
       "      <td>1</td>\n",
       "      <td>1887</td>\n",
       "      <td>Full Shadow</td>\n",
       "      <td>NaN</td>\n",
       "      <td>NaN</td>\n",
       "      <td>NaN</td>\n",
       "      <td>NaN</td>\n",
       "      <td>NaN</td>\n",
       "      <td>NaN</td>\n",
       "      <td>NaN</td>\n",
       "      <td>NaN</td>\n",
       "      <td>3</td>\n",
       "    </tr>\n",
       "    <tr>\n",
       "      <th>2</th>\n",
       "      <td>2</td>\n",
       "      <td>1888</td>\n",
       "      <td>Full Shadow</td>\n",
       "      <td>NaN</td>\n",
       "      <td>NaN</td>\n",
       "      <td>NaN</td>\n",
       "      <td>NaN</td>\n",
       "      <td>NaN</td>\n",
       "      <td>NaN</td>\n",
       "      <td>NaN</td>\n",
       "      <td>NaN</td>\n",
       "      <td>3</td>\n",
       "    </tr>\n",
       "    <tr>\n",
       "      <th>4</th>\n",
       "      <td>4</td>\n",
       "      <td>1890</td>\n",
       "      <td>No Shadow</td>\n",
       "      <td>NaN</td>\n",
       "      <td>NaN</td>\n",
       "      <td>NaN</td>\n",
       "      <td>NaN</td>\n",
       "      <td>NaN</td>\n",
       "      <td>NaN</td>\n",
       "      <td>NaN</td>\n",
       "      <td>NaN</td>\n",
       "      <td>1</td>\n",
       "    </tr>\n",
       "    <tr>\n",
       "      <th>9</th>\n",
       "      <td>9</td>\n",
       "      <td>1895</td>\n",
       "      <td>Partial Shadow</td>\n",
       "      <td>26.60</td>\n",
       "      <td>15.6</td>\n",
       "      <td>21.9</td>\n",
       "      <td>17.0</td>\n",
       "      <td>39.97</td>\n",
       "      <td>27.6</td>\n",
       "      <td>40.2</td>\n",
       "      <td>31.3</td>\n",
       "      <td>2</td>\n",
       "    </tr>\n",
       "    <tr>\n",
       "      <th>10</th>\n",
       "      <td>10</td>\n",
       "      <td>1896</td>\n",
       "      <td>Partial Shadow</td>\n",
       "      <td>35.04</td>\n",
       "      <td>22.2</td>\n",
       "      <td>33.5</td>\n",
       "      <td>26.6</td>\n",
       "      <td>38.03</td>\n",
       "      <td>25.3</td>\n",
       "      <td>36.9</td>\n",
       "      <td>27.8</td>\n",
       "      <td>2</td>\n",
       "    </tr>\n",
       "  </tbody>\n",
       "</table>\n",
       "</div>"
      ],
      "text/plain": [
       "    Unnamed: 0  Year  ... March Average Temperature (Pennsylvania)  Shadow\n",
       "1            1  1887  ...                                      NaN       3\n",
       "2            2  1888  ...                                      NaN       3\n",
       "4            4  1890  ...                                      NaN       1\n",
       "9            9  1895  ...                                     31.3       2\n",
       "10          10  1896  ...                                     27.8       2\n",
       "\n",
       "[5 rows x 12 columns]"
      ]
     },
     "execution_count": 17,
     "metadata": {
      "tags": []
     },
     "output_type": "execute_result"
    }
   ],
   "source": [
    "df.head()"
   ]
  },
  {
   "cell_type": "markdown",
   "metadata": {
    "colab_type": "text",
    "id": "7znEa_rd7x9o"
   },
   "source": [
    "#### Question 7 - If we are trying to write a machine learning program which predicts the type of shadow for the year, which column(s) should be the independent variables X? Why? \n",
    "\n",
    "#### Use pandas to assign a variable X to be all of the rows of the data set with the column(s) that represent the independent variables."
   ]
  },
  {
   "cell_type": "markdown",
   "metadata": {
    "colab_type": "text",
    "id": "n7MJ1fjpYruU"
   },
   "source": [
    "The First column is just an index column, it makes no addition to the target variable(which is the shadow for the year). <br>\n",
    "The Year column adds no information to the shadow for that particular year so it can be neglected. <br> \n",
    "It can be inferred from the dataset that the Shadow for the year i.e. the 'Punxsutawney Phil' column is based off the average temperature i.e. all the columns containing the quantitative data. <br>\n",
    "So all of these 8 columns will be our independent variables (X). "
   ]
  },
  {
   "cell_type": "code",
   "execution_count": 0,
   "metadata": {
    "colab": {},
    "colab_type": "code",
    "id": "K15FKOmh7x9p"
   },
   "outputs": [],
   "source": [
    "X = df.iloc[:, 3:11]"
   ]
  },
  {
   "cell_type": "code",
   "execution_count": 19,
   "metadata": {
    "colab": {
     "base_uri": "https://localhost:8080/",
     "height": 453
    },
    "colab_type": "code",
    "id": "JdaTyk6O7x9t",
    "outputId": "922634cc-3f6a-4877-d047-b998bc036f35"
   },
   "outputs": [
    {
     "data": {
      "text/html": [
       "<div>\n",
       "<style scoped>\n",
       "    .dataframe tbody tr th:only-of-type {\n",
       "        vertical-align: middle;\n",
       "    }\n",
       "\n",
       "    .dataframe tbody tr th {\n",
       "        vertical-align: top;\n",
       "    }\n",
       "\n",
       "    .dataframe thead th {\n",
       "        text-align: right;\n",
       "    }\n",
       "</style>\n",
       "<table border=\"1\" class=\"dataframe\">\n",
       "  <thead>\n",
       "    <tr style=\"text-align: right;\">\n",
       "      <th></th>\n",
       "      <th>February Average Temperature</th>\n",
       "      <th>February Average Temperature (Northeast)</th>\n",
       "      <th>February Average Temperature (Midwest)</th>\n",
       "      <th>February Average Temperature (Pennsylvania)</th>\n",
       "      <th>March Average Temperature</th>\n",
       "      <th>March Average Temperature (Northeast)</th>\n",
       "      <th>March Average Temperature (Midwest)</th>\n",
       "      <th>March Average Temperature (Pennsylvania)</th>\n",
       "    </tr>\n",
       "  </thead>\n",
       "  <tbody>\n",
       "    <tr>\n",
       "      <th>1</th>\n",
       "      <td>NaN</td>\n",
       "      <td>NaN</td>\n",
       "      <td>NaN</td>\n",
       "      <td>NaN</td>\n",
       "      <td>NaN</td>\n",
       "      <td>NaN</td>\n",
       "      <td>NaN</td>\n",
       "      <td>NaN</td>\n",
       "    </tr>\n",
       "    <tr>\n",
       "      <th>2</th>\n",
       "      <td>NaN</td>\n",
       "      <td>NaN</td>\n",
       "      <td>NaN</td>\n",
       "      <td>NaN</td>\n",
       "      <td>NaN</td>\n",
       "      <td>NaN</td>\n",
       "      <td>NaN</td>\n",
       "      <td>NaN</td>\n",
       "    </tr>\n",
       "    <tr>\n",
       "      <th>4</th>\n",
       "      <td>NaN</td>\n",
       "      <td>NaN</td>\n",
       "      <td>NaN</td>\n",
       "      <td>NaN</td>\n",
       "      <td>NaN</td>\n",
       "      <td>NaN</td>\n",
       "      <td>NaN</td>\n",
       "      <td>NaN</td>\n",
       "    </tr>\n",
       "    <tr>\n",
       "      <th>9</th>\n",
       "      <td>26.60</td>\n",
       "      <td>15.6</td>\n",
       "      <td>21.9</td>\n",
       "      <td>17.0</td>\n",
       "      <td>39.97</td>\n",
       "      <td>27.6</td>\n",
       "      <td>40.2</td>\n",
       "      <td>31.3</td>\n",
       "    </tr>\n",
       "    <tr>\n",
       "      <th>10</th>\n",
       "      <td>35.04</td>\n",
       "      <td>22.2</td>\n",
       "      <td>33.5</td>\n",
       "      <td>26.6</td>\n",
       "      <td>38.03</td>\n",
       "      <td>25.3</td>\n",
       "      <td>36.9</td>\n",
       "      <td>27.8</td>\n",
       "    </tr>\n",
       "    <tr>\n",
       "      <th>...</th>\n",
       "      <td>...</td>\n",
       "      <td>...</td>\n",
       "      <td>...</td>\n",
       "      <td>...</td>\n",
       "      <td>...</td>\n",
       "      <td>...</td>\n",
       "      <td>...</td>\n",
       "      <td>...</td>\n",
       "    </tr>\n",
       "    <tr>\n",
       "      <th>126</th>\n",
       "      <td>37.51</td>\n",
       "      <td>30.6</td>\n",
       "      <td>38.6</td>\n",
       "      <td>34.3</td>\n",
       "      <td>50.41</td>\n",
       "      <td>43.4</td>\n",
       "      <td>56.3</td>\n",
       "      <td>47.7</td>\n",
       "    </tr>\n",
       "    <tr>\n",
       "      <th>127</th>\n",
       "      <td>34.77</td>\n",
       "      <td>25.3</td>\n",
       "      <td>33.4</td>\n",
       "      <td>27.4</td>\n",
       "      <td>40.91</td>\n",
       "      <td>32.7</td>\n",
       "      <td>37.3</td>\n",
       "      <td>33.9</td>\n",
       "    </tr>\n",
       "    <tr>\n",
       "      <th>128</th>\n",
       "      <td>32.13</td>\n",
       "      <td>21.0</td>\n",
       "      <td>27.1</td>\n",
       "      <td>22.8</td>\n",
       "      <td>40.51</td>\n",
       "      <td>26.0</td>\n",
       "      <td>38.0</td>\n",
       "      <td>30.3</td>\n",
       "    </tr>\n",
       "    <tr>\n",
       "      <th>129</th>\n",
       "      <td>32.99</td>\n",
       "      <td>12.1</td>\n",
       "      <td>23.4</td>\n",
       "      <td>16.1</td>\n",
       "      <td>45.39</td>\n",
       "      <td>27.8</td>\n",
       "      <td>41.6</td>\n",
       "      <td>31.6</td>\n",
       "    </tr>\n",
       "    <tr>\n",
       "      <th>130</th>\n",
       "      <td>39.47</td>\n",
       "      <td>28.1</td>\n",
       "      <td>36.9</td>\n",
       "      <td>30.8</td>\n",
       "      <td>47.50</td>\n",
       "      <td>38.8</td>\n",
       "      <td>49.5</td>\n",
       "      <td>43.4</td>\n",
       "    </tr>\n",
       "  </tbody>\n",
       "</table>\n",
       "<p>125 rows × 8 columns</p>\n",
       "</div>"
      ],
      "text/plain": [
       "     February Average Temperature  ...  March Average Temperature (Pennsylvania)\n",
       "1                             NaN  ...                                       NaN\n",
       "2                             NaN  ...                                       NaN\n",
       "4                             NaN  ...                                       NaN\n",
       "9                           26.60  ...                                      31.3\n",
       "10                          35.04  ...                                      27.8\n",
       "..                            ...  ...                                       ...\n",
       "126                         37.51  ...                                      47.7\n",
       "127                         34.77  ...                                      33.9\n",
       "128                         32.13  ...                                      30.3\n",
       "129                         32.99  ...                                      31.6\n",
       "130                         39.47  ...                                      43.4\n",
       "\n",
       "[125 rows x 8 columns]"
      ]
     },
     "execution_count": 19,
     "metadata": {
      "tags": []
     },
     "output_type": "execute_result"
    }
   ],
   "source": [
    "X"
   ]
  },
  {
   "cell_type": "markdown",
   "metadata": {
    "colab_type": "text",
    "id": "osxqGUaP7x9z"
   },
   "source": [
    "#### Question 8 - If we are trying to write a machine learning program which predicts the type of shadow for the year, which column(s) should be the dependent variables Y? Why?  \n",
    "\n",
    "#### Use pandas to assign a variable Y to be all of the rows of the data set with the column(s) that represent the dependent variables."
   ]
  },
  {
   "cell_type": "markdown",
   "metadata": {
    "colab_type": "text",
    "id": "1TjUgjFIZ-aK"
   },
   "source": [
    "A machine learning algorithm cannot diectly take in string values and that is why we have encoded the 'Punxsutawney Phil' column to the Shadow column at the end. Hence, the Shhadow column will be the target variable."
   ]
  },
  {
   "cell_type": "code",
   "execution_count": 0,
   "metadata": {
    "colab": {},
    "colab_type": "code",
    "id": "mclUPNGw7x94"
   },
   "outputs": [],
   "source": [
    "Y = df.iloc[:, df.columns == 'Shadow']"
   ]
  },
  {
   "cell_type": "code",
   "execution_count": 21,
   "metadata": {
    "colab": {
     "base_uri": "https://localhost:8080/",
     "height": 419
    },
    "colab_type": "code",
    "id": "olNwa5QP7x97",
    "outputId": "3f74d2fa-c309-4674-c200-48b6d8f79faa"
   },
   "outputs": [
    {
     "data": {
      "text/html": [
       "<div>\n",
       "<style scoped>\n",
       "    .dataframe tbody tr th:only-of-type {\n",
       "        vertical-align: middle;\n",
       "    }\n",
       "\n",
       "    .dataframe tbody tr th {\n",
       "        vertical-align: top;\n",
       "    }\n",
       "\n",
       "    .dataframe thead th {\n",
       "        text-align: right;\n",
       "    }\n",
       "</style>\n",
       "<table border=\"1\" class=\"dataframe\">\n",
       "  <thead>\n",
       "    <tr style=\"text-align: right;\">\n",
       "      <th></th>\n",
       "      <th>Shadow</th>\n",
       "    </tr>\n",
       "  </thead>\n",
       "  <tbody>\n",
       "    <tr>\n",
       "      <th>1</th>\n",
       "      <td>3</td>\n",
       "    </tr>\n",
       "    <tr>\n",
       "      <th>2</th>\n",
       "      <td>3</td>\n",
       "    </tr>\n",
       "    <tr>\n",
       "      <th>4</th>\n",
       "      <td>1</td>\n",
       "    </tr>\n",
       "    <tr>\n",
       "      <th>9</th>\n",
       "      <td>2</td>\n",
       "    </tr>\n",
       "    <tr>\n",
       "      <th>10</th>\n",
       "      <td>2</td>\n",
       "    </tr>\n",
       "    <tr>\n",
       "      <th>...</th>\n",
       "      <td>...</td>\n",
       "    </tr>\n",
       "    <tr>\n",
       "      <th>126</th>\n",
       "      <td>3</td>\n",
       "    </tr>\n",
       "    <tr>\n",
       "      <th>127</th>\n",
       "      <td>1</td>\n",
       "    </tr>\n",
       "    <tr>\n",
       "      <th>128</th>\n",
       "      <td>3</td>\n",
       "    </tr>\n",
       "    <tr>\n",
       "      <th>129</th>\n",
       "      <td>3</td>\n",
       "    </tr>\n",
       "    <tr>\n",
       "      <th>130</th>\n",
       "      <td>1</td>\n",
       "    </tr>\n",
       "  </tbody>\n",
       "</table>\n",
       "<p>125 rows × 1 columns</p>\n",
       "</div>"
      ],
      "text/plain": [
       "     Shadow\n",
       "1         3\n",
       "2         3\n",
       "4         1\n",
       "9         2\n",
       "10        2\n",
       "..      ...\n",
       "126       3\n",
       "127       1\n",
       "128       3\n",
       "129       3\n",
       "130       1\n",
       "\n",
       "[125 rows x 1 columns]"
      ]
     },
     "execution_count": 21,
     "metadata": {
      "tags": []
     },
     "output_type": "execute_result"
    }
   ],
   "source": [
    "Y"
   ]
  },
  {
   "cell_type": "markdown",
   "metadata": {
    "colab_type": "text",
    "id": "Y8YwYktE7x9-"
   },
   "source": [
    "#### Question 9 - Using the train_test_split function from the sklearn module, use a 70/30 split validation to split the data set into train and test. If you follow the example at the following link: https://scikit-learn.org/stable/modules/generated/sklearn.model_selection.train_test_split.html\n",
    "\n",
    "Note: It's common practice to use the following variable names for unpacking the result:\n",
    "X_train, X_test, Y_train, Y_test = train_test_split(X, Y, test_size=(YOUR VALUE))\n",
    "\n",
    "sklearn will create a proper split where the following statements hold true:\n",
    "X_train is your train set independent variables\n",
    "Y_train is your train set dependent variables\n",
    "X_test is your test set independent variables\n",
    "Y_test is your test set dependent variables"
   ]
  },
  {
   "cell_type": "code",
   "execution_count": 0,
   "metadata": {
    "colab": {},
    "colab_type": "code",
    "id": "nq2GETjv7x9-"
   },
   "outputs": [],
   "source": [
    "from sklearn.model_selection import train_test_split"
   ]
  },
  {
   "cell_type": "code",
   "execution_count": 0,
   "metadata": {
    "colab": {},
    "colab_type": "code",
    "id": "cIZUBw3w7x-A"
   },
   "outputs": [],
   "source": [
    "X_train, X_test, Y_train, Y_test = train_test_split(X, Y, test_size=0.3)"
   ]
  },
  {
   "cell_type": "markdown",
   "metadata": {
    "colab_type": "text",
    "id": "HyJ37xhn7x-F"
   },
   "source": [
    "#### Question 10 - Should the number of rows in X_train == number of rows in Y_train? Also, should the number of rows in X_test == Y_test? Why or why not? Validate your answer with code below:"
   ]
  },
  {
   "cell_type": "markdown",
   "metadata": {
    "colab_type": "text",
    "id": "eUCOxHfkbHag"
   },
   "source": [
    "A machine learning algorithm learns from the trainset(x_train and x_test) and measures its accuracy from the testset (y_train and y_test). Now if the number of rows of the independent variables(X_train and X_test) differ from the target variables, the algorithm won't be able to run properly i.e. it'll throw an error. So they should be the same on both the sides."
   ]
  },
  {
   "cell_type": "code",
   "execution_count": 24,
   "metadata": {
    "colab": {
     "base_uri": "https://localhost:8080/",
     "height": 51
    },
    "colab_type": "code",
    "id": "CesWn7k77x-F",
    "outputId": "1c6d85fb-556a-4f73-af71-2defb765b2a5"
   },
   "outputs": [
    {
     "name": "stdout",
     "output_type": "stream",
     "text": [
      "(87, 8) (87, 1)\n",
      "(38, 8) (38, 1)\n"
     ]
    }
   ],
   "source": [
    "print (X_train.shape, Y_train.shape)\n",
    "print (X_test.shape, Y_test.shape)"
   ]
  }
 ],
 "metadata": {
  "colab": {
   "name": "Homework 06 Assignment.ipynb",
   "provenance": [],
   "toc_visible": true
  },
  "kernelspec": {
   "display_name": "Python 3",
   "language": "python",
   "name": "python3"
  },
  "language_info": {
   "codemirror_mode": {
    "name": "ipython",
    "version": 3
   },
   "file_extension": ".py",
   "mimetype": "text/x-python",
   "name": "python",
   "nbconvert_exporter": "python",
   "pygments_lexer": "ipython3",
   "version": "3.7.4"
  }
 },
 "nbformat": 4,
 "nbformat_minor": 1
}
